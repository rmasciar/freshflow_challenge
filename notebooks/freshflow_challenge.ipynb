{
 "cells": [
  {
   "cell_type": "markdown",
   "id": "46e8f340",
   "metadata": {},
   "source": [
    "# FreshFlow take-home challenge"
   ]
  },
  {
   "cell_type": "code",
   "execution_count": 2,
   "id": "1a306487",
   "metadata": {},
   "outputs": [],
   "source": [
    "import pandas as pd\n",
    "import numpy as np"
   ]
  },
  {
   "cell_type": "markdown",
   "id": "47d96725",
   "metadata": {},
   "source": [
    "## 1 - Read dataset"
   ]
  },
  {
   "cell_type": "code",
   "execution_count": 12,
   "id": "f51f8b42",
   "metadata": {},
   "outputs": [
    {
     "data": {
      "text/html": [
       "<div>\n",
       "<style scoped>\n",
       "    .dataframe tbody tr th:only-of-type {\n",
       "        vertical-align: middle;\n",
       "    }\n",
       "\n",
       "    .dataframe tbody tr th {\n",
       "        vertical-align: top;\n",
       "    }\n",
       "\n",
       "    .dataframe thead th {\n",
       "        text-align: right;\n",
       "    }\n",
       "</style>\n",
       "<table border=\"1\" class=\"dataframe\">\n",
       "  <thead>\n",
       "    <tr style=\"text-align: right;\">\n",
       "      <th></th>\n",
       "      <th>day</th>\n",
       "      <th>item_number</th>\n",
       "      <th>item_name</th>\n",
       "      <th>purchase_price</th>\n",
       "      <th>suggested_retail_price</th>\n",
       "      <th>orders_quantity</th>\n",
       "      <th>sales_quantity</th>\n",
       "      <th>revenue</th>\n",
       "    </tr>\n",
       "    <tr>\n",
       "      <th>Unnamed: 0</th>\n",
       "      <th></th>\n",
       "      <th></th>\n",
       "      <th></th>\n",
       "      <th></th>\n",
       "      <th></th>\n",
       "      <th></th>\n",
       "      <th></th>\n",
       "      <th></th>\n",
       "    </tr>\n",
       "  </thead>\n",
       "  <tbody>\n",
       "    <tr>\n",
       "      <th>0</th>\n",
       "      <td>2022-02-09</td>\n",
       "      <td>80317483</td>\n",
       "      <td>ROMA TOMATEN ES I 500G SF</td>\n",
       "      <td>0.92</td>\n",
       "      <td>1.49</td>\n",
       "      <td>0.0</td>\n",
       "      <td>16.0</td>\n",
       "      <td>23.55</td>\n",
       "    </tr>\n",
       "    <tr>\n",
       "      <th>1</th>\n",
       "      <td>2022-02-09</td>\n",
       "      <td>80317483</td>\n",
       "      <td>ROMA TOMATEN ES I 500G SF</td>\n",
       "      <td>0.92</td>\n",
       "      <td>1.49</td>\n",
       "      <td>0.0</td>\n",
       "      <td>16.0</td>\n",
       "      <td>23.55</td>\n",
       "    </tr>\n",
       "    <tr>\n",
       "      <th>2</th>\n",
       "      <td>2022-02-09</td>\n",
       "      <td>80101923</td>\n",
       "      <td>SL MANDARINEN BEH.ES I 750G GS</td>\n",
       "      <td>2.05</td>\n",
       "      <td>3.49</td>\n",
       "      <td>0.0</td>\n",
       "      <td>3.0</td>\n",
       "      <td>10.47</td>\n",
       "    </tr>\n",
       "    <tr>\n",
       "      <th>3</th>\n",
       "      <td>2022-02-09</td>\n",
       "      <td>80101923</td>\n",
       "      <td>SL MANDARINEN BEH.ES I 750G GS</td>\n",
       "      <td>2.05</td>\n",
       "      <td>3.49</td>\n",
       "      <td>0.0</td>\n",
       "      <td>3.0</td>\n",
       "      <td>10.47</td>\n",
       "    </tr>\n",
       "    <tr>\n",
       "      <th>4</th>\n",
       "      <td>2022-02-09</td>\n",
       "      <td>80028349</td>\n",
       "      <td>UH ZWIEBELN DE-HE I 1KG GS</td>\n",
       "      <td>0.64</td>\n",
       "      <td>0.99</td>\n",
       "      <td>0.0</td>\n",
       "      <td>13.0</td>\n",
       "      <td>12.84</td>\n",
       "    </tr>\n",
       "  </tbody>\n",
       "</table>\n",
       "</div>"
      ],
      "text/plain": [
       "                   day  item_number                       item_name  \\\n",
       "Unnamed: 0                                                            \n",
       "0           2022-02-09     80317483       ROMA TOMATEN ES I 500G SF   \n",
       "1           2022-02-09     80317483       ROMA TOMATEN ES I 500G SF   \n",
       "2           2022-02-09     80101923  SL MANDARINEN BEH.ES I 750G GS   \n",
       "3           2022-02-09     80101923  SL MANDARINEN BEH.ES I 750G GS   \n",
       "4           2022-02-09     80028349      UH ZWIEBELN DE-HE I 1KG GS   \n",
       "\n",
       "            purchase_price  suggested_retail_price  orders_quantity  \\\n",
       "Unnamed: 0                                                            \n",
       "0                     0.92                    1.49              0.0   \n",
       "1                     0.92                    1.49              0.0   \n",
       "2                     2.05                    3.49              0.0   \n",
       "3                     2.05                    3.49              0.0   \n",
       "4                     0.64                    0.99              0.0   \n",
       "\n",
       "            sales_quantity  revenue  \n",
       "Unnamed: 0                           \n",
       "0                     16.0    23.55  \n",
       "1                     16.0    23.55  \n",
       "2                      3.0    10.47  \n",
       "3                      3.0    10.47  \n",
       "4                     13.0    12.84  "
      ]
     },
     "execution_count": 12,
     "metadata": {},
     "output_type": "execute_result"
    }
   ],
   "source": [
    "data_file = \"../data/data.csv\"\n",
    "df = pd.read_csv(data_file).set_index(\"Unnamed: 0\")\n",
    "df.head()"
   ]
  },
  {
   "cell_type": "code",
   "execution_count": null,
   "id": "17237fec",
   "metadata": {},
   "outputs": [],
   "source": []
  }
 ],
 "metadata": {
  "kernelspec": {
   "display_name": "Python 3 (ipykernel)",
   "language": "python",
   "name": "python3"
  },
  "language_info": {
   "codemirror_mode": {
    "name": "ipython",
    "version": 3
   },
   "file_extension": ".py",
   "mimetype": "text/x-python",
   "name": "python",
   "nbconvert_exporter": "python",
   "pygments_lexer": "ipython3",
   "version": "3.8.10"
  }
 },
 "nbformat": 4,
 "nbformat_minor": 5
}
